{
  "nbformat": 4,
  "nbformat_minor": 0,
  "metadata": {
    "colab": {
      "provenance": [],
      "authorship_tag": "ABX9TyMW9iXmhXJBggpUAHcurZ1w",
      "include_colab_link": true
    },
    "kernelspec": {
      "name": "python3",
      "display_name": "Python 3"
    },
    "language_info": {
      "name": "python"
    }
  },
  "cells": [
    {
      "cell_type": "markdown",
      "metadata": {
        "id": "view-in-github",
        "colab_type": "text"
      },
      "source": [
        "<a href=\"https://colab.research.google.com/github/Sanj21github/coding4git/blob/main/BitcoinPrediction_ARIMA.ipynb\" target=\"_parent\"><img src=\"https://colab.research.google.com/assets/colab-badge.svg\" alt=\"Open In Colab\"/></a>"
      ]
    },
    {
      "cell_type": "code",
      "execution_count": null,
      "metadata": {
        "id": "0pxjdJrIOofz",
        "colab": {
          "base_uri": "https://localhost:8080/"
        },
        "outputId": "187f83d2-8f2e-4068-ad22-6a8025cc88bd"
      },
      "outputs": [
        {
          "output_type": "stream",
          "name": "stdout",
          "text": [
            "Looking in indexes: https://pypi.org/simple, https://us-python.pkg.dev/colab-wheels/public/simple/\n",
            "Collecting yfinance\n",
            "  Downloading yfinance-0.2.9-py2.py3-none-any.whl (55 kB)\n",
            "\u001b[2K     \u001b[90m━━━━━━━━━━━━━━━━━━━━━━━━━━━━━━━━━━━━━━━━\u001b[0m \u001b[32m55.9/55.9 KB\u001b[0m \u001b[31m2.6 MB/s\u001b[0m eta \u001b[36m0:00:00\u001b[0m\n",
            "\u001b[?25hRequirement already satisfied: appdirs>=1.4.4 in /usr/local/lib/python3.8/dist-packages (from yfinance) (1.4.4)\n",
            "Collecting frozendict>=2.3.4\n",
            "  Downloading frozendict-2.3.4-cp38-cp38-manylinux_2_17_x86_64.manylinux2014_x86_64.whl (110 kB)\n",
            "\u001b[2K     \u001b[90m━━━━━━━━━━━━━━━━━━━━━━━━━━━━━━━━━━━━━━━\u001b[0m \u001b[32m111.0/111.0 KB\u001b[0m \u001b[31m4.9 MB/s\u001b[0m eta \u001b[36m0:00:00\u001b[0m\n",
            "\u001b[?25hCollecting html5lib>=1.1\n",
            "  Downloading html5lib-1.1-py2.py3-none-any.whl (112 kB)\n",
            "\u001b[2K     \u001b[90m━━━━━━━━━━━━━━━━━━━━━━━━━━━━━━━━━━━━━━\u001b[0m \u001b[32m112.2/112.2 KB\u001b[0m \u001b[31m12.1 MB/s\u001b[0m eta \u001b[36m0:00:00\u001b[0m\n",
            "\u001b[?25hRequirement already satisfied: pandas>=1.3.0 in /usr/local/lib/python3.8/dist-packages (from yfinance) (1.3.5)\n",
            "Requirement already satisfied: multitasking>=0.0.7 in /usr/local/lib/python3.8/dist-packages (from yfinance) (0.0.11)\n",
            "Requirement already satisfied: pytz>=2022.5 in /usr/local/lib/python3.8/dist-packages (from yfinance) (2022.7)\n",
            "Collecting beautifulsoup4>=4.11.1\n",
            "  Downloading beautifulsoup4-4.11.1-py3-none-any.whl (128 kB)\n",
            "\u001b[2K     \u001b[90m━━━━━━━━━━━━━━━━━━━━━━━━━━━━━━━━━━━━━━\u001b[0m \u001b[32m128.2/128.2 KB\u001b[0m \u001b[31m15.3 MB/s\u001b[0m eta \u001b[36m0:00:00\u001b[0m\n",
            "\u001b[?25hRequirement already satisfied: numpy>=1.16.5 in /usr/local/lib/python3.8/dist-packages (from yfinance) (1.21.6)\n",
            "Collecting cryptography>=3.3.2\n",
            "  Downloading cryptography-39.0.0-cp36-abi3-manylinux_2_28_x86_64.whl (4.2 MB)\n",
            "\u001b[2K     \u001b[90m━━━━━━━━━━━━━━━━━━━━━━━━━━━━━━━━━━━━━━━━\u001b[0m \u001b[32m4.2/4.2 MB\u001b[0m \u001b[31m40.8 MB/s\u001b[0m eta \u001b[36m0:00:00\u001b[0m\n",
            "\u001b[?25hCollecting requests>=2.26\n",
            "  Downloading requests-2.28.2-py3-none-any.whl (62 kB)\n",
            "\u001b[2K     \u001b[90m━━━━━━━━━━━━━━━━━━━━━━━━━━━━━━━━━━━━━━━━\u001b[0m \u001b[32m62.8/62.8 KB\u001b[0m \u001b[31m6.2 MB/s\u001b[0m eta \u001b[36m0:00:00\u001b[0m\n",
            "\u001b[?25hRequirement already satisfied: lxml>=4.9.1 in /usr/local/lib/python3.8/dist-packages (from yfinance) (4.9.2)\n",
            "Collecting soupsieve>1.2\n",
            "  Downloading soupsieve-2.3.2.post1-py3-none-any.whl (37 kB)\n",
            "Requirement already satisfied: cffi>=1.12 in /usr/local/lib/python3.8/dist-packages (from cryptography>=3.3.2->yfinance) (1.15.1)\n",
            "Requirement already satisfied: six>=1.9 in /usr/local/lib/python3.8/dist-packages (from html5lib>=1.1->yfinance) (1.15.0)\n",
            "Requirement already satisfied: webencodings in /usr/local/lib/python3.8/dist-packages (from html5lib>=1.1->yfinance) (0.5.1)\n",
            "Requirement already satisfied: python-dateutil>=2.7.3 in /usr/local/lib/python3.8/dist-packages (from pandas>=1.3.0->yfinance) (2.8.2)\n",
            "Requirement already satisfied: certifi>=2017.4.17 in /usr/local/lib/python3.8/dist-packages (from requests>=2.26->yfinance) (2022.12.7)\n",
            "Requirement already satisfied: idna<4,>=2.5 in /usr/local/lib/python3.8/dist-packages (from requests>=2.26->yfinance) (2.10)\n",
            "Requirement already satisfied: urllib3<1.27,>=1.21.1 in /usr/local/lib/python3.8/dist-packages (from requests>=2.26->yfinance) (1.24.3)\n",
            "Requirement already satisfied: charset-normalizer<4,>=2 in /usr/local/lib/python3.8/dist-packages (from requests>=2.26->yfinance) (2.1.1)\n",
            "Requirement already satisfied: pycparser in /usr/local/lib/python3.8/dist-packages (from cffi>=1.12->cryptography>=3.3.2->yfinance) (2.21)\n",
            "Installing collected packages: soupsieve, requests, html5lib, frozendict, cryptography, beautifulsoup4, yfinance\n",
            "  Attempting uninstall: requests\n",
            "    Found existing installation: requests 2.25.1\n",
            "    Uninstalling requests-2.25.1:\n",
            "      Successfully uninstalled requests-2.25.1\n",
            "  Attempting uninstall: html5lib\n",
            "    Found existing installation: html5lib 1.0.1\n",
            "    Uninstalling html5lib-1.0.1:\n",
            "      Successfully uninstalled html5lib-1.0.1\n",
            "  Attempting uninstall: beautifulsoup4\n",
            "    Found existing installation: beautifulsoup4 4.6.3\n",
            "    Uninstalling beautifulsoup4-4.6.3:\n",
            "      Successfully uninstalled beautifulsoup4-4.6.3\n",
            "Successfully installed beautifulsoup4-4.11.1 cryptography-39.0.0 frozendict-2.3.4 html5lib-1.1 requests-2.28.2 soupsieve-2.3.2.post1 yfinance-0.2.9\n"
          ]
        }
      ],
      "source": [
        "pip install yfinance"
      ]
    },
    {
      "cell_type": "code",
      "source": [
        "import yfinance as yf"
      ],
      "metadata": {
        "id": "yeOBR56BQDCP"
      },
      "execution_count": null,
      "outputs": []
    },
    {
      "cell_type": "code",
      "source": [
        "df=yf.download('BTC-USD')"
      ],
      "metadata": {
        "colab": {
          "base_uri": "https://localhost:8080/"
        },
        "id": "hbZbzgaXQLks",
        "outputId": "07477aec-197e-4c7f-d610-d36634118db7"
      },
      "execution_count": null,
      "outputs": [
        {
          "output_type": "stream",
          "name": "stdout",
          "text": [
            "\r[*********************100%***********************]  1 of 1 completed\n"
          ]
        }
      ]
    },
    {
      "cell_type": "code",
      "source": [
        "df"
      ],
      "metadata": {
        "colab": {
          "base_uri": "https://localhost:8080/",
          "height": 455
        },
        "id": "6_wVUteKXxTd",
        "outputId": "5dc816c0-3542-4868-ff1a-8bbcd2f21665"
      },
      "execution_count": null,
      "outputs": [
        {
          "output_type": "execute_result",
          "data": {
            "text/plain": [
              "                                   Open          High           Low  \\\n",
              "Date                                                                  \n",
              "2014-09-17 00:00:00+00:00    465.864014    468.174011    452.421997   \n",
              "2014-09-18 00:00:00+00:00    456.859985    456.859985    413.104004   \n",
              "2014-09-19 00:00:00+00:00    424.102997    427.834991    384.532013   \n",
              "2014-09-20 00:00:00+00:00    394.673004    423.295990    389.882996   \n",
              "2014-09-21 00:00:00+00:00    408.084991    412.425995    393.181000   \n",
              "...                                 ...           ...           ...   \n",
              "2023-01-26 00:00:00+00:00  23108.955078  23237.078125  22911.373047   \n",
              "2023-01-27 00:00:00+00:00  23030.716797  23417.720703  22654.593750   \n",
              "2023-01-28 00:00:00+00:00  23079.964844  23165.896484  22908.845703   \n",
              "2023-01-29 00:00:00+00:00  23031.449219  23919.890625  22985.070312   \n",
              "2023-01-30 00:00:00+00:00  23756.929688  23789.347656  23174.541016   \n",
              "\n",
              "                                  Close     Adj Close       Volume  \n",
              "Date                                                                \n",
              "2014-09-17 00:00:00+00:00    457.334015    457.334015     21056800  \n",
              "2014-09-18 00:00:00+00:00    424.440002    424.440002     34483200  \n",
              "2014-09-19 00:00:00+00:00    394.795990    394.795990     37919700  \n",
              "2014-09-20 00:00:00+00:00    408.903992    408.903992     36863600  \n",
              "2014-09-21 00:00:00+00:00    398.821014    398.821014     26580100  \n",
              "...                                 ...           ...          ...  \n",
              "2023-01-26 00:00:00+00:00  23032.777344  23032.777344  26357839322  \n",
              "2023-01-27 00:00:00+00:00  23078.728516  23078.728516  25383335641  \n",
              "2023-01-28 00:00:00+00:00  23031.089844  23031.089844  14712928379  \n",
              "2023-01-29 00:00:00+00:00  23774.566406  23774.566406  27423687259  \n",
              "2023-01-30 00:00:00+00:00  23264.316406  23264.316406  26927280128  \n",
              "\n",
              "[3058 rows x 6 columns]"
            ],
            "text/html": [
              "\n",
              "  <div id=\"df-351f736d-d8ac-442e-ab19-db40b8768668\">\n",
              "    <div class=\"colab-df-container\">\n",
              "      <div>\n",
              "<style scoped>\n",
              "    .dataframe tbody tr th:only-of-type {\n",
              "        vertical-align: middle;\n",
              "    }\n",
              "\n",
              "    .dataframe tbody tr th {\n",
              "        vertical-align: top;\n",
              "    }\n",
              "\n",
              "    .dataframe thead th {\n",
              "        text-align: right;\n",
              "    }\n",
              "</style>\n",
              "<table border=\"1\" class=\"dataframe\">\n",
              "  <thead>\n",
              "    <tr style=\"text-align: right;\">\n",
              "      <th></th>\n",
              "      <th>Open</th>\n",
              "      <th>High</th>\n",
              "      <th>Low</th>\n",
              "      <th>Close</th>\n",
              "      <th>Adj Close</th>\n",
              "      <th>Volume</th>\n",
              "    </tr>\n",
              "    <tr>\n",
              "      <th>Date</th>\n",
              "      <th></th>\n",
              "      <th></th>\n",
              "      <th></th>\n",
              "      <th></th>\n",
              "      <th></th>\n",
              "      <th></th>\n",
              "    </tr>\n",
              "  </thead>\n",
              "  <tbody>\n",
              "    <tr>\n",
              "      <th>2014-09-17 00:00:00+00:00</th>\n",
              "      <td>465.864014</td>\n",
              "      <td>468.174011</td>\n",
              "      <td>452.421997</td>\n",
              "      <td>457.334015</td>\n",
              "      <td>457.334015</td>\n",
              "      <td>21056800</td>\n",
              "    </tr>\n",
              "    <tr>\n",
              "      <th>2014-09-18 00:00:00+00:00</th>\n",
              "      <td>456.859985</td>\n",
              "      <td>456.859985</td>\n",
              "      <td>413.104004</td>\n",
              "      <td>424.440002</td>\n",
              "      <td>424.440002</td>\n",
              "      <td>34483200</td>\n",
              "    </tr>\n",
              "    <tr>\n",
              "      <th>2014-09-19 00:00:00+00:00</th>\n",
              "      <td>424.102997</td>\n",
              "      <td>427.834991</td>\n",
              "      <td>384.532013</td>\n",
              "      <td>394.795990</td>\n",
              "      <td>394.795990</td>\n",
              "      <td>37919700</td>\n",
              "    </tr>\n",
              "    <tr>\n",
              "      <th>2014-09-20 00:00:00+00:00</th>\n",
              "      <td>394.673004</td>\n",
              "      <td>423.295990</td>\n",
              "      <td>389.882996</td>\n",
              "      <td>408.903992</td>\n",
              "      <td>408.903992</td>\n",
              "      <td>36863600</td>\n",
              "    </tr>\n",
              "    <tr>\n",
              "      <th>2014-09-21 00:00:00+00:00</th>\n",
              "      <td>408.084991</td>\n",
              "      <td>412.425995</td>\n",
              "      <td>393.181000</td>\n",
              "      <td>398.821014</td>\n",
              "      <td>398.821014</td>\n",
              "      <td>26580100</td>\n",
              "    </tr>\n",
              "    <tr>\n",
              "      <th>...</th>\n",
              "      <td>...</td>\n",
              "      <td>...</td>\n",
              "      <td>...</td>\n",
              "      <td>...</td>\n",
              "      <td>...</td>\n",
              "      <td>...</td>\n",
              "    </tr>\n",
              "    <tr>\n",
              "      <th>2023-01-26 00:00:00+00:00</th>\n",
              "      <td>23108.955078</td>\n",
              "      <td>23237.078125</td>\n",
              "      <td>22911.373047</td>\n",
              "      <td>23032.777344</td>\n",
              "      <td>23032.777344</td>\n",
              "      <td>26357839322</td>\n",
              "    </tr>\n",
              "    <tr>\n",
              "      <th>2023-01-27 00:00:00+00:00</th>\n",
              "      <td>23030.716797</td>\n",
              "      <td>23417.720703</td>\n",
              "      <td>22654.593750</td>\n",
              "      <td>23078.728516</td>\n",
              "      <td>23078.728516</td>\n",
              "      <td>25383335641</td>\n",
              "    </tr>\n",
              "    <tr>\n",
              "      <th>2023-01-28 00:00:00+00:00</th>\n",
              "      <td>23079.964844</td>\n",
              "      <td>23165.896484</td>\n",
              "      <td>22908.845703</td>\n",
              "      <td>23031.089844</td>\n",
              "      <td>23031.089844</td>\n",
              "      <td>14712928379</td>\n",
              "    </tr>\n",
              "    <tr>\n",
              "      <th>2023-01-29 00:00:00+00:00</th>\n",
              "      <td>23031.449219</td>\n",
              "      <td>23919.890625</td>\n",
              "      <td>22985.070312</td>\n",
              "      <td>23774.566406</td>\n",
              "      <td>23774.566406</td>\n",
              "      <td>27423687259</td>\n",
              "    </tr>\n",
              "    <tr>\n",
              "      <th>2023-01-30 00:00:00+00:00</th>\n",
              "      <td>23756.929688</td>\n",
              "      <td>23789.347656</td>\n",
              "      <td>23174.541016</td>\n",
              "      <td>23264.316406</td>\n",
              "      <td>23264.316406</td>\n",
              "      <td>26927280128</td>\n",
              "    </tr>\n",
              "  </tbody>\n",
              "</table>\n",
              "<p>3058 rows × 6 columns</p>\n",
              "</div>\n",
              "      <button class=\"colab-df-convert\" onclick=\"convertToInteractive('df-351f736d-d8ac-442e-ab19-db40b8768668')\"\n",
              "              title=\"Convert this dataframe to an interactive table.\"\n",
              "              style=\"display:none;\">\n",
              "        \n",
              "  <svg xmlns=\"http://www.w3.org/2000/svg\" height=\"24px\"viewBox=\"0 0 24 24\"\n",
              "       width=\"24px\">\n",
              "    <path d=\"M0 0h24v24H0V0z\" fill=\"none\"/>\n",
              "    <path d=\"M18.56 5.44l.94 2.06.94-2.06 2.06-.94-2.06-.94-.94-2.06-.94 2.06-2.06.94zm-11 1L8.5 8.5l.94-2.06 2.06-.94-2.06-.94L8.5 2.5l-.94 2.06-2.06.94zm10 10l.94 2.06.94-2.06 2.06-.94-2.06-.94-.94-2.06-.94 2.06-2.06.94z\"/><path d=\"M17.41 7.96l-1.37-1.37c-.4-.4-.92-.59-1.43-.59-.52 0-1.04.2-1.43.59L10.3 9.45l-7.72 7.72c-.78.78-.78 2.05 0 2.83L4 21.41c.39.39.9.59 1.41.59.51 0 1.02-.2 1.41-.59l7.78-7.78 2.81-2.81c.8-.78.8-2.07 0-2.86zM5.41 20L4 18.59l7.72-7.72 1.47 1.35L5.41 20z\"/>\n",
              "  </svg>\n",
              "      </button>\n",
              "      \n",
              "  <style>\n",
              "    .colab-df-container {\n",
              "      display:flex;\n",
              "      flex-wrap:wrap;\n",
              "      gap: 12px;\n",
              "    }\n",
              "\n",
              "    .colab-df-convert {\n",
              "      background-color: #E8F0FE;\n",
              "      border: none;\n",
              "      border-radius: 50%;\n",
              "      cursor: pointer;\n",
              "      display: none;\n",
              "      fill: #1967D2;\n",
              "      height: 32px;\n",
              "      padding: 0 0 0 0;\n",
              "      width: 32px;\n",
              "    }\n",
              "\n",
              "    .colab-df-convert:hover {\n",
              "      background-color: #E2EBFA;\n",
              "      box-shadow: 0px 1px 2px rgba(60, 64, 67, 0.3), 0px 1px 3px 1px rgba(60, 64, 67, 0.15);\n",
              "      fill: #174EA6;\n",
              "    }\n",
              "\n",
              "    [theme=dark] .colab-df-convert {\n",
              "      background-color: #3B4455;\n",
              "      fill: #D2E3FC;\n",
              "    }\n",
              "\n",
              "    [theme=dark] .colab-df-convert:hover {\n",
              "      background-color: #434B5C;\n",
              "      box-shadow: 0px 1px 3px 1px rgba(0, 0, 0, 0.15);\n",
              "      filter: drop-shadow(0px 1px 2px rgba(0, 0, 0, 0.3));\n",
              "      fill: #FFFFFF;\n",
              "    }\n",
              "  </style>\n",
              "\n",
              "      <script>\n",
              "        const buttonEl =\n",
              "          document.querySelector('#df-351f736d-d8ac-442e-ab19-db40b8768668 button.colab-df-convert');\n",
              "        buttonEl.style.display =\n",
              "          google.colab.kernel.accessAllowed ? 'block' : 'none';\n",
              "\n",
              "        async function convertToInteractive(key) {\n",
              "          const element = document.querySelector('#df-351f736d-d8ac-442e-ab19-db40b8768668');\n",
              "          const dataTable =\n",
              "            await google.colab.kernel.invokeFunction('convertToInteractive',\n",
              "                                                     [key], {});\n",
              "          if (!dataTable) return;\n",
              "\n",
              "          const docLinkHtml = 'Like what you see? Visit the ' +\n",
              "            '<a target=\"_blank\" href=https://colab.research.google.com/notebooks/data_table.ipynb>data table notebook</a>'\n",
              "            + ' to learn more about interactive tables.';\n",
              "          element.innerHTML = '';\n",
              "          dataTable['output_type'] = 'display_data';\n",
              "          await google.colab.output.renderOutput(dataTable, element);\n",
              "          const docLink = document.createElement('div');\n",
              "          docLink.innerHTML = docLinkHtml;\n",
              "          element.appendChild(docLink);\n",
              "        }\n",
              "      </script>\n",
              "    </div>\n",
              "  </div>\n",
              "  "
            ]
          },
          "metadata": {},
          "execution_count": 10
        }
      ]
    },
    {
      "cell_type": "code",
      "source": [
        "import numpy as np\n",
        "import pandas as pd\n",
        "import matplotlib.pyplot as plt\n",
        "import math\n",
        "from statsmodels.tsa.arima_model import ARIMA\n",
        "from sklearn.metrics import mean_squared_error,mean_absolute_error"
      ],
      "metadata": {
        "id": "FNmYiN51XzxF"
      },
      "execution_count": null,
      "outputs": []
    },
    {
      "cell_type": "code",
      "source": [
        "plt.plot(df.index,df['Adj Close'])\n",
        "plt.show()"
      ],
      "metadata": {
        "colab": {
          "base_uri": "https://localhost:8080/",
          "height": 267
        },
        "id": "CnTRe9a9YYdh",
        "outputId": "6ee14af8-2efe-43cc-f9e9-5d1cd060f091"
      },
      "execution_count": null,
      "outputs": [
        {
          "output_type": "display_data",
          "data": {
            "text/plain": [
              "<Figure size 432x288 with 1 Axes>"
            ],
            "image/png": "[encoded data removed]"
          },
          "metadata": {
            "needs_background": "light"
          }
        }
      ]
    },
    {
      "cell_type": "code",
      "source": [
        "#train test split\n",
        "to_row=int(len(df)*0.9)\n",
        "training_data=list(df[0:to_row]['Adj Close'])\n",
        "testing_data=list(df[to_row:]['Adj Close'])\n",
        "testing_data"
      ],
      "metadata": {
        "colab": {
          "base_uri": "https://localhost:8080/"
        },
        "id": "JugYtYdmZzyF",
        "outputId": "fdcb581f-3a29-4951-bd85-1cf2b1127af3"
      },
      "execution_count": null,
      "outputs": [
        {
          "output_type": "execute_result",
          "data": {
            "text/plain": [
              "[45538.67578125,\n",
              " 46281.64453125,\n",
              " 45868.94921875,\n",
              " 46453.56640625,\n",
              " 46622.67578125,\n",
              " 45555.9921875,\n",
              " 43206.73828125,\n",
              " 43503.84765625,\n",
              " 42287.6640625,\n",
              " 42782.13671875,\n",
              " 42207.671875,\n",
              " 39521.90234375,\n",
              " 40127.18359375,\n",
              " 41166.73046875,\n",
              " 39935.515625,\n",
              " 40553.46484375,\n",
              " 40424.484375,\n",
              " 39716.953125,\n",
              " 40826.21484375,\n",
              " 41502.75,\n",
              " 41374.37890625,\n",
              " 40527.36328125,\n",
              " 39740.3203125,\n",
              " 39486.73046875,\n",
              " 39469.29296875,\n",
              " 40458.30859375,\n",
              " 38117.4609375,\n",
              " 39241.12109375,\n",
              " 39773.828125,\n",
              " 38609.82421875,\n",
              " 37714.875,\n",
              " 38469.09375,\n",
              " 38529.328125,\n",
              " 37750.453125,\n",
              " 39698.37109375,\n",
              " 36575.140625,\n",
              " 36040.921875,\n",
              " 35501.953125,\n",
              " 34059.265625,\n",
              " 30296.953125,\n",
              " 31022.90625,\n",
              " 28936.35546875,\n",
              " 29047.751953125,\n",
              " 29283.103515625,\n",
              " 30101.265625,\n",
              " 31305.11328125,\n",
              " 29862.91796875,\n",
              " 30425.857421875,\n",
              " 28720.271484375,\n",
              " 30314.333984375,\n",
              " 29200.740234375,\n",
              " 29432.2265625,\n",
              " 30323.72265625,\n",
              " 29098.91015625,\n",
              " 29655.5859375,\n",
              " 29562.361328125,\n",
              " 29267.224609375,\n",
              " 28627.57421875,\n",
              " 28814.900390625,\n",
              " 29445.95703125,\n",
              " 31726.390625,\n",
              " 31792.310546875,\n",
              " 29799.080078125,\n",
              " 30467.48828125,\n",
              " 29704.390625,\n",
              " 29832.9140625,\n",
              " 29906.662109375,\n",
              " 31370.671875,\n",
              " 31155.478515625,\n",
              " 30214.35546875,\n",
              " 30111.998046875,\n",
              " 29083.8046875,\n",
              " 28360.810546875,\n",
              " 26762.6484375,\n",
              " 22487.388671875,\n",
              " 22206.79296875,\n",
              " 22572.83984375,\n",
              " 20381.650390625,\n",
              " 20471.482421875,\n",
              " 19017.642578125,\n",
              " 20553.271484375,\n",
              " 20599.537109375,\n",
              " 20710.59765625,\n",
              " 19987.029296875,\n",
              " 21085.876953125,\n",
              " 21231.65625,\n",
              " 21502.337890625,\n",
              " 21027.294921875,\n",
              " 20735.478515625,\n",
              " 20280.634765625,\n",
              " 20104.0234375,\n",
              " 19784.7265625,\n",
              " 19269.3671875,\n",
              " 19242.255859375,\n",
              " 19297.076171875,\n",
              " 20231.26171875,\n",
              " 20190.115234375,\n",
              " 20548.24609375,\n",
              " 21637.587890625,\n",
              " 21731.1171875,\n",
              " 21592.20703125,\n",
              " 20860.44921875,\n",
              " 19970.556640625,\n",
              " 19323.9140625,\n",
              " 20212.07421875,\n",
              " 20569.919921875,\n",
              " 20836.328125,\n",
              " 21190.31640625,\n",
              " 20779.34375,\n",
              " 22485.689453125,\n",
              " 23389.43359375,\n",
              " 23231.732421875,\n",
              " 23164.62890625,\n",
              " 22714.978515625,\n",
              " 22465.478515625,\n",
              " 22609.1640625,\n",
              " 21361.701171875,\n",
              " 21239.75390625,\n",
              " 22930.548828125,\n",
              " 23843.88671875,\n",
              " 23804.6328125,\n",
              " 23656.20703125,\n",
              " 23336.896484375,\n",
              " 23314.19921875,\n",
              " 22978.1171875,\n",
              " 22846.5078125,\n",
              " 22630.95703125,\n",
              " 23289.314453125,\n",
              " 22961.279296875,\n",
              " 23175.890625,\n",
              " 23809.486328125,\n",
              " 23164.318359375,\n",
              " 23947.642578125,\n",
              " 23957.529296875,\n",
              " 24402.818359375,\n",
              " 24424.068359375,\n",
              " 24319.333984375,\n",
              " 24136.97265625,\n",
              " 23883.291015625,\n",
              " 23335.998046875,\n",
              " 23212.73828125,\n",
              " 20877.552734375,\n",
              " 21166.060546875,\n",
              " 21534.12109375,\n",
              " 21398.908203125,\n",
              " 21528.087890625,\n",
              " 21395.01953125,\n",
              " 21600.904296875,\n",
              " 20260.01953125,\n",
              " 20041.73828125,\n",
              " 19616.814453125,\n",
              " 20297.994140625,\n",
              " 19796.80859375,\n",
              " 20049.763671875,\n",
              " 20127.140625,\n",
              " 19969.771484375,\n",
              " 19832.087890625,\n",
              " 19986.712890625,\n",
              " 19812.37109375,\n",
              " 18837.66796875,\n",
              " 19290.32421875,\n",
              " 19329.833984375,\n",
              " 21381.15234375,\n",
              " 21680.5390625,\n",
              " 21769.255859375,\n",
              " 22370.44921875,\n",
              " 20296.70703125,\n",
              " 20241.08984375,\n",
              " 19701.2109375,\n",
              " 19772.583984375,\n",
              " 20127.576171875,\n",
              " 19419.505859375,\n",
              " 19544.12890625,\n",
              " 18890.7890625,\n",
              " 18547.400390625,\n",
              " 19413.55078125,\n",
              " 19297.638671875,\n",
              " 18937.01171875,\n",
              " 18802.09765625,\n",
              " 19222.671875,\n",
              " 19110.546875,\n",
              " 19426.720703125,\n",
              " 19573.05078125,\n",
              " 19431.7890625,\n",
              " 19312.095703125,\n",
              " 19044.107421875,\n",
              " 19623.580078125,\n",
              " 20336.84375,\n",
              " 20160.716796875,\n",
              " 19955.443359375,\n",
              " 19546.849609375,\n",
              " 19416.568359375,\n",
              " 19446.42578125,\n",
              " 19141.484375,\n",
              " 19051.41796875,\n",
              " 19157.4453125,\n",
              " 19382.904296875,\n",
              " 19185.65625,\n",
              " 19067.634765625,\n",
              " 19268.09375,\n",
              " 19550.7578125,\n",
              " 19334.416015625,\n",
              " 19139.53515625,\n",
              " 19053.740234375,\n",
              " 19172.46875,\n",
              " 19208.189453125,\n",
              " 19567.0078125,\n",
              " 19345.572265625,\n",
              " 20095.857421875,\n",
              " 20770.44140625,\n",
              " 20285.8359375,\n",
              " 20595.3515625,\n",
              " 20818.4765625,\n",
              " 20635.603515625,\n",
              " 20495.7734375,\n",
              " 20485.2734375,\n",
              " 20159.50390625,\n",
              " 20209.98828125,\n",
              " 21147.23046875,\n",
              " 21282.69140625,\n",
              " 20926.486328125,\n",
              " 20602.81640625,\n",
              " 18541.271484375,\n",
              " 15880.7802734375,\n",
              " 17586.771484375,\n",
              " 17034.29296875,\n",
              " 16799.185546875,\n",
              " 16353.365234375,\n",
              " 16618.19921875,\n",
              " 16884.61328125,\n",
              " 16669.439453125,\n",
              " 16687.517578125,\n",
              " 16697.77734375,\n",
              " 16711.546875,\n",
              " 16291.83203125,\n",
              " 15787.2841796875,\n",
              " 16189.76953125,\n",
              " 16610.70703125,\n",
              " 16604.46484375,\n",
              " 16521.841796875,\n",
              " 16464.28125,\n",
              " 16444.626953125,\n",
              " 16217.322265625,\n",
              " 16444.982421875,\n",
              " 17168.56640625,\n",
              " 16967.1328125,\n",
              " 17088.66015625,\n",
              " 16908.236328125,\n",
              " 17130.486328125,\n",
              " 16974.826171875,\n",
              " 17089.50390625,\n",
              " 16848.126953125,\n",
              " 17233.474609375,\n",
              " 17133.15234375,\n",
              " 17128.724609375,\n",
              " 17104.193359375,\n",
              " 17206.4375,\n",
              " 17781.318359375,\n",
              " 17815.650390625,\n",
              " 17364.865234375,\n",
              " 16647.484375,\n",
              " 16795.091796875,\n",
              " 16757.9765625,\n",
              " 16439.6796875,\n",
              " 16906.3046875,\n",
              " 16817.53515625,\n",
              " 16830.341796875,\n",
              " 16796.953125,\n",
              " 16847.755859375,\n",
              " 16841.986328125,\n",
              " 16919.8046875,\n",
              " 16717.173828125,\n",
              " 16552.572265625,\n",
              " 16642.341796875,\n",
              " 16602.5859375,\n",
              " 16547.49609375,\n",
              " 16625.080078125,\n",
              " 16688.470703125,\n",
              " 16679.857421875,\n",
              " 16863.23828125,\n",
              " 16836.736328125,\n",
              " 16951.96875,\n",
              " 16955.078125,\n",
              " 17091.14453125,\n",
              " 17196.5546875,\n",
              " 17446.29296875,\n",
              " 17934.896484375,\n",
              " 18869.587890625,\n",
              " 19909.57421875,\n",
              " 20976.298828125,\n",
              " 20880.798828125,\n",
              " 21169.6328125,\n",
              " 21161.51953125,\n",
              " 20688.78125,\n",
              " 21086.79296875,\n",
              " 22676.552734375,\n",
              " 22777.625,\n",
              " 22720.416015625,\n",
              " 22934.431640625,\n",
              " 22636.46875,\n",
              " 23117.859375,\n",
              " 23032.77734375,\n",
              " 23078.728515625,\n",
              " 23031.08984375,\n",
              " 23774.56640625,\n",
              " 23264.31640625]"
            ]
          },
          "metadata": {},
          "execution_count": 18
        }
      ]
    },
    {
      "cell_type": "code",
      "source": [
        "plt.figure(figsize=(10,6))\n",
        "plt.grid(True)\n",
        "plt.xlabel('Dates')\n",
        "plt.ylabel('Closing Prices')\n",
        "plt.plot(df[0:to_row]['Adj Close'],'green', label='Train data')\n",
        "plt.plot(df[to_row:]['Adj Close'],'blue', label='Test data')\n",
        "plt.legend()"
      ],
      "metadata": {
        "colab": {
          "base_uri": "https://localhost:8080/",
          "height": 406
        },
        "id": "e19JhAqma-tb",
        "outputId": "51d1966d-f6cf-4f8d-8636-e4be5c35d77d"
      },
      "execution_count": null,
      "outputs": [
        {
          "output_type": "execute_result",
          "data": {
            "text/plain": [
              "<matplotlib.legend.Legend at 0x7f1e49f05f10>"
            ]
          },
          "metadata": {},
          "execution_count": 19
        },
        {
          "output_type": "display_data",
          "data": {
            "text/plain": [
              "<Figure size 720x432 with 1 Axes>"
            ],
            "image/png": "[encoded data removed]"
          },
          "metadata": {
            "needs_background": "light"
          }
        }
      ]
    },
    {
      "cell_type": "markdown",
      "source": [
        "ARIMA MODEL "
      ],
      "metadata": {
        "id": "sv-U9OLTme6S"
      }
    },
    {
      "cell_type": "code",
      "source": [
        "model_predictions=[]\n",
        "n_test_obser=len(testing_data)"
      ],
      "metadata": {
        "id": "ghW8RliHf2wE"
      },
      "execution_count": null,
      "outputs": []
    },
    {
      "cell_type": "code",
      "source": [
        "for i in range(n_test_obser):\n",
        "  model=ARIMA(training_data,order=(4,1,0))\n",
        "  model_fit=model.fit()\n",
        "  output=model_fit.forecast()\n",
        "  yhat=list(output[0])[0]\n",
        "  model_predictions.append(yhat)\n",
        "  actual_test_value=testing_data[i]\n",
        "  training_data.append(actual_test_value)\n",
        "  "
      ],
      "metadata": {
        "colab": {
          "base_uri": "https://localhost:8080/"
        },
        "id": "LJNry9Vrj7WL",
        "outputId": "9ea35f9f-1b15-4178-870d-67721a571bf6"
      },
      "execution_count": null,
      "outputs": [
        {
          "output_type": "stream",
          "name": "stderr",
          "text": [
            "/usr/local/lib/python3.8/dist-packages/statsmodels/tsa/arima_model.py:472: FutureWarning: \n",
            "statsmodels.tsa.arima_model.ARMA and statsmodels.tsa.arima_model.ARIMA have\n",
            "been deprecated in favor of statsmodels.tsa.arima.model.ARIMA (note the .\n",
            "between arima and model) and\n",
            "statsmodels.tsa.SARIMAX. These will be removed after the 0.12 release.\n",
            "\n",
            "statsmodels.tsa.arima.model.ARIMA makes use of the statespace framework and\n",
            "is both well tested and maintained.\n",
            "\n",
            "To silence this warning and continue using ARMA and ARIMA until they are\n",
            "removed, use:\n",
            "\n",
            "import warnings\n",
            "warnings.filterwarnings('ignore', 'statsmodels.tsa.arima_model.ARMA',\n",
            "                        FutureWarning)\n",
            "warnings.filterwarnings('ignore', 'statsmodels.tsa.arima_model.ARIMA',\n",
            "                        FutureWarning)\n",
            "\n",
            "  warnings.warn(ARIMA_DEPRECATION_WARN, FutureWarning)\n"
          ]
        }
      ]
    },
    {
      "cell_type": "code",
      "source": [
        "print(model_fit.summary())\n"
      ],
      "metadata": {
        "colab": {
          "base_uri": "https://localhost:8080/"
        },
        "id": "1wVdNc2tk7kx",
        "outputId": "448abe4e-edcd-4c86-ec99-9beb30bd656f"
      },
      "execution_count": null,
      "outputs": [
        {
          "output_type": "stream",
          "name": "stdout",
          "text": [
            "                             ARIMA Model Results                              \n",
            "==============================================================================\n",
            "Dep. Variable:                    D.y   No. Observations:                 3668\n",
            "Model:                 ARIMA(4, 1, 0)   Log Likelihood              -30355.537\n",
            "Method:                       css-mle   S.D. of innovations            950.354\n",
            "Date:                Mon, 30 Jan 2023   AIC                          60723.073\n",
            "Time:                        12:28:14   BIC                          60760.318\n",
            "Sample:                             1   HQIC                         60736.334\n",
            "                                                                              \n",
            "==============================================================================\n",
            "                 coef    std err          z      P>|z|      [0.025      0.975]\n",
            "------------------------------------------------------------------------------\n",
            "const          6.3569     16.538      0.384      0.701     -26.057      38.771\n",
            "ar.L1.D.y     -0.0161      0.017     -0.973      0.331      -0.048       0.016\n",
            "ar.L2.D.y      0.0161      0.016      0.975      0.329      -0.016       0.048\n",
            "ar.L3.D.y      0.0307      0.016      1.862      0.063      -0.002       0.063\n",
            "ar.L4.D.y      0.0205      0.017      1.242      0.214      -0.012       0.053\n",
            "                                    Roots                                    \n",
            "=============================================================================\n",
            "                  Real          Imaginary           Modulus         Frequency\n",
            "-----------------------------------------------------------------------------\n",
            "AR.1            2.3031           -0.0000j            2.3031           -0.0000\n",
            "AR.2           -0.4089           -2.6333j            2.6648           -0.2745\n",
            "AR.3           -0.4089           +2.6333j            2.6648            0.2745\n",
            "AR.4           -2.9843           -0.0000j            2.9843           -0.5000\n",
            "-----------------------------------------------------------------------------\n"
          ]
        }
      ]
    },
    {
      "cell_type": "code",
      "source": [
        "len(testing_data)"
      ],
      "metadata": {
        "colab": {
          "base_uri": "https://localhost:8080/"
        },
        "id": "xOl54B1DpC9j",
        "outputId": "f2be46cb-4c97-444d-a438-cf142aab749d"
      },
      "execution_count": null,
      "outputs": [
        {
          "output_type": "execute_result",
          "data": {
            "text/plain": [
              "306"
            ]
          },
          "metadata": {},
          "execution_count": 36
        }
      ]
    },
    {
      "cell_type": "code",
      "source": [
        "plt.figure(figsize=(15,9))\n",
        "plt.grid(True)\n",
        "data_range=df[to_row:].index\n",
        "plt.plot(data_range,model_predictions,color='blue',marker='o',linestyle='dashed',label='BTC predicted Price')\n",
        "plt.plot(data_range,testing_data,color='red',label='BTC Actual Price')\n",
        "\n",
        "plt.title('Bitcoin Price Prediction')\n",
        "plt.xlabel('Date')\n",
        "plt.ylabel('Price')\n",
        "plt.legend()\n",
        "plt.show()"
      ],
      "metadata": {
        "colab": {
          "base_uri": "https://localhost:8080/",
          "height": 567
        },
        "id": "fEVxTTq0lFeM",
        "outputId": "bcb3882f-1588-43c0-f682-5c124fe1e558"
      },
      "execution_count": null,
      "outputs": [
        {
          "output_type": "display_data",
          "data": {
            "text/plain": [
              "<Figure size 1080x648 with 1 Axes>"
            ],
            "image/png": "[encoded data removed]"
          },
          "metadata": {
            "needs_background": "light"
          }
        }
      ]
    },
    {
      "cell_type": "markdown",
      "source": [
        "Report Performance\n"
      ],
      "metadata": {
        "id": "m4rPonCVqCaY"
      }
    },
    {
      "cell_type": "code",
      "source": [
        "mape=np.mean(np.abs(np.array(model_predictions)-np.array(testing_data))/np.abs(testing_data))\n",
        "print(\"Mean absolute Percentage error:\"+str(mape))\n",
        "#around 2.3% of absolute percentage error and it implies that the model is 97.7% accurate in predicting the test set observation"
      ],
      "metadata": {
        "colab": {
          "base_uri": "https://localhost:8080/"
        },
        "id": "sS2V0_FgoqHs",
        "outputId": "0b9064d6-d2bc-48cf-a09d-028b31de594d"
      },
      "execution_count": null,
      "outputs": [
        {
          "output_type": "stream",
          "name": "stdout",
          "text": [
            "Mean absolute Percentage error:0.023314204778638787\n"
          ]
        }
      ]
    },
    {
      "cell_type": "code",
      "source": [],
      "metadata": {
        "id": "ZwHXNTZzqnHj"
      },
      "execution_count": null,
      "outputs": []
    }
  ]
}